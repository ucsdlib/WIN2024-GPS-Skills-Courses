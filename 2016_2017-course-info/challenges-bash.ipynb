{
 "cells": [
  {
   "cell_type": "markdown",
   "metadata": {},
   "source": [
    "### 1. A file called `animals.txt` contains the following data:"
   ]
  },
  {
   "cell_type": "code",
   "execution_count": 1,
   "metadata": {
    "collapsed": false
   },
   "outputs": [
    {
     "name": "stdout",
     "output_type": "stream",
     "text": [
      "2012-11-05,deer\r\n",
      "2012-11-05,rabbit\r\n",
      "2012-11-05,raccoon\r\n",
      "2012-11-06,rabbit\r\n",
      "2012-11-06,deer\r\n",
      "2012-11-06,fox\r\n",
      "2012-11-07,rabbit\r\n",
      "2012-11-07,bear"
     ]
    }
   ],
   "source": [
    "cat animals.txt"
   ]
  },
  {
   "cell_type": "markdown",
   "metadata": {},
   "source": [
    "What text passes through each of the pipes and the final redirect in the pipeline below?\n",
    "\n",
    "`cat animals.txt | head -5 | tail -3 | sort -r > final.txt`"
   ]
  },
  {
   "cell_type": "code",
   "execution_count": 4,
   "metadata": {
    "collapsed": false
   },
   "outputs": [
    {
     "name": "stdout",
     "output_type": "stream",
     "text": []
    }
   ],
   "source": [
    "cat animals.txt | head -5 | tail -3 | sort -r > final.txt"
   ]
  },
  {
   "cell_type": "code",
   "execution_count": 5,
   "metadata": {
    "collapsed": false,
    "scrolled": true
   },
   "outputs": [
    {
     "name": "stdout",
     "output_type": "stream",
     "text": [
      "2012-11-06,rabbit\r\n",
      "2012-11-06,deer\r\n",
      "2012-11-05,raccoon\r\n"
     ]
    }
   ],
   "source": [
    "cat final.txt"
   ]
  },
  {
   "cell_type": "markdown",
   "metadata": {},
   "source": [
    "### 2. This command produces the following output:"
   ]
  },
  {
   "cell_type": "code",
   "execution_count": 6,
   "metadata": {
    "collapsed": false
   },
   "outputs": [
    {
     "name": "stdout",
     "output_type": "stream",
     "text": [
      "deer\r\n",
      "rabbit\r\n",
      "raccoon\r\n",
      "rabbit\r\n",
      "deer\r\n",
      "fox\r\n",
      "rabbit\r\n",
      "bear\r\n"
     ]
    }
   ],
   "source": [
    "cut -d , -f 2 animals.txt"
   ]
  },
  {
   "cell_type": "markdown",
   "metadata": {},
   "source": [
    "What other command(s) could be added to this in a pipeline to find out what animals the file contains (without any duplicates in their names)?"
   ]
  },
  {
   "cell_type": "code",
   "execution_count": null,
   "metadata": {
    "collapsed": true
   },
   "outputs": [],
   "source": []
  },
  {
   "cell_type": "code",
   "execution_count": null,
   "metadata": {
    "collapsed": true
   },
   "outputs": [],
   "source": []
  },
  {
   "cell_type": "code",
   "execution_count": null,
   "metadata": {
    "collapsed": true
   },
   "outputs": [],
   "source": []
  },
  {
   "cell_type": "code",
   "execution_count": null,
   "metadata": {
    "collapsed": true
   },
   "outputs": [],
   "source": []
  }
 ],
 "metadata": {
  "kernelspec": {
   "display_name": "Bash",
   "language": "bash",
   "name": "bash"
  },
  "language_info": {
   "codemirror_mode": "shell",
   "file_extension": ".sh",
   "mimetype": "text/x-sh",
   "name": "bash"
  }
 },
 "nbformat": 4,
 "nbformat_minor": 0
}
