{
 "cells": [
  {
   "cell_type": "markdown",
   "metadata": {},
   "source": [
    "# Assignment 1 - DM101 - GPS\n",
    "\n",
    "For this assignment, you will write a shell script to organize an unorganized directory of data and do files into a structure of folders and sub-folders expressed in the TIER Protocol. We will take an existing Stata project that was posted to the TIER student showcase < https://dataverse.harvard.edu/dataverse/TIER > and put the files in the appropriate folders.  The TIER file structure hierarchy looks like this:  \n",
    "\n",
    "![TIER folder](https://www.haverford.edu/sites/default/files/Office/TIER/tier-folder-structure.png)\n",
    "\n",
    "We are only concerned with the \"Processing and Analysis\" sub-folders for this assignment. For this assignment, you will need to create the TEIR directory stucture from \"Processing and Analysis\" and below first and then copy the files into the sub-folders as specified below. \n",
    "\n",
    "**DUE:** By Thursday, Februrary 25th, midnight  \n",
    "**What to turn in:** A shell script with your student ID:  a12345678.sh  \n",
    "**Where to turn in:** Email it as an attachment to challenges.gps.programming.ta@gmail.com  \n",
    "**TL;DR Instructions:**  \n",
    "\n",
    "1. Download the zipped up folder that needs to be organized from: https://goo.gl/J9b7iP  \n",
    "2. Unzip on your desktop \n",
    "3. Rename the yourID.sh file in the folder to included your student Id, so a12345678.sh  \n",
    "4. Edit the file and write bash commands to create the \"Processing and Analysis\" folder and its sub-folders\n",
    "4. Use bash commands to copy the files into the folder so it looks like: \n",
    "  * Processing and Analysis\n",
    "    * Analysis Data \n",
    "      * merged.dta\n",
    "    * Command Files\n",
    "      * figures.do\n",
    "      * import.do\n",
    "      * regression.do\n",
    "    * Importable Data\n",
    "      * dataagg2.dta\n",
    "      * rose_import.dta\n",
    "      * wdi_download.txt\n",
    "      * wdi_download.xlsx\n",
    "      * wdi_import.dta\n",
    "    * read_me.pdf\n",
    "5. Test your script and email to challenges.gps.programming.ta@gmail.com\n",
    "\n",
    "**TIPs**\n",
    "\n",
    "- To create a directory with spaces use quotes:  `$ mkdir 'This Directory Has Spaces'`\n",
    "- Look for patterns in your data and use the wildcard (\"*\") to copy multiple files at once\n",
    "- Use `cp` instead of `mv`, so you don't have to undo your works if you get the script wrong\n",
    "- Run your script more than once and make sure it works:  bash a12345678.sh (remember you can rm -r \"pro\n",
    "\n",
    "Fuller instructions follow:"
   ]
  },
  {
   "cell_type": "markdown",
   "metadata": {},
   "source": [
    "## 1. Download the following assignment zip file and unzip the files into its own folder \n",
    "\n",
    "Assignment zip:  https://goo.gl/J9b7iP \n",
    "\n",
    "Make sure you can navigate to this folder using your bash terminal, such as:  \n",
    "\n",
    "`$ cd /home/jtdennis/Desktop/assignment1`"
   ]
  },
  {
   "cell_type": "markdown",
   "metadata": {},
   "source": [
    "## 2 Rename the shell script in the folder with your ID \n",
    "\n",
    "Rename the file named `yourID.sh` with your a#, so a12345678.sh.  You can do this with the unix command `mv`: "
   ]
  },
  {
   "cell_type": "code",
   "execution_count": 25,
   "metadata": {
    "collapsed": false
   },
   "outputs": [
    {
     "name": "stdout",
     "output_type": "stream",
     "text": [
      "a12345678.sh\r\n"
     ]
    }
   ],
   "source": [
    "mv yourID.sh a12345678.sh\n",
    "ls *.sh"
   ]
  },
  {
   "cell_type": "markdown",
   "metadata": {},
   "source": [
    "You may also rename manually via Windows Explorer or Mac Finder. "
   ]
  },
  {
   "cell_type": "markdown",
   "metadata": {},
   "source": [
    "## 3. Edit the shell file you just renamed (or moved) and write bash commands to organize the files in the folder into the following heirarchy:"
   ]
  },
  {
   "cell_type": "code",
   "execution_count": 26,
   "metadata": {
    "collapsed": false
   },
   "outputs": [
    {
     "name": "stdout",
     "output_type": "stream",
     "text": [
      "Processing\\ and\\ Analysis\r\n",
      "├── Analysis\\ Data\r\n",
      "│   └── merged.dta\r\n",
      "├── Command\\ Files\r\n",
      "│   ├── figures.do\r\n",
      "│   ├── import.do\r\n",
      "│   └── regressions.do\r\n",
      "├── Importable\\ Data\r\n",
      "│   ├── dataagg2.dta\r\n",
      "│   ├── rose_import.dta\r\n",
      "│   ├── wdi_download.txt\r\n",
      "│   ├── wdi_download.xlsx\r\n",
      "│   └── wdi_import.dta\r\n",
      "└── read_me.pdf\r\n",
      "\r\n",
      "3 directories, 10 files\r\n"
     ]
    }
   ],
   "source": [
    "tree \"Processing and Analysis\"\n"
   ]
  },
  {
   "cell_type": "markdown",
   "metadata": {},
   "source": [
    "`tree` is a bash command that prints out the heirarchy of a directory, but it doesn't come with bash by default on Git for Winows or Mac. We are only using it here to show how the files are organized on the instructor's machine. We also create a bulleted heirarchy below.  Note that bash prints a backslash \"\\\" when there are spaces in a filename or directory. The backslash is a symbol to tell unix to treat the spaces as part of the filename. Otherwise, some commands might interpret each word as a separate filename. This is really a legacy of unix's past because spaces in filenames or directories were discouraged historically. "
   ]
  },
  {
   "cell_type": "markdown",
   "metadata": {},
   "source": [
    "In a bulleted list without the \"\\\" this is: \n",
    "\n",
    "* Processing and Analysis\n",
    "  * Analysis Data \n",
    "     * merged.dta\n",
    "  * Command Files\n",
    "    * figures.do\n",
    "    * import.do\n",
    "    * regression.do\n",
    "  * Importable Data\n",
    "    * dataagg2.dta\n",
    "    * rose_import.dta\n",
    "    * wdi_download.txt\n",
    "    * wdi_download.xlsx\n",
    "    * wdi_import.dta\n",
    "* read_me.pdf\n",
    "\n",
    "**TIPs**\n",
    "\n",
    "- To create a directory with spaces you can use quotes:  `mkdir \"This Directory Has Spaces\"`\n",
    "- Look for patterns in your data and use the wildcard (\"*\") to copy multiple files at once\n",
    "- Use cp instead of mv, so you don't have to undo your works if you get the script wrong\n",
    "- Run your script more than once and make sure it works:  `$ bash a12345678.sh` (remember you can rm -r \"Processing and Analysis\" after you run your script to start anew)"
   ]
  },
  {
   "cell_type": "markdown",
   "metadata": {},
   "source": [
    "## 4. Turn in your work\n",
    "\n",
    "Email your shell script (the a12345678.sh) to: challenges.gps.programming.ta@gmail.com.  \n",
    "\n",
    "**DO NOT alter the last line in the file that reads: tar -zcvf process-data.tar.gz \"Processing and Analysis/\"**"
   ]
  },
  {
   "cell_type": "markdown",
   "metadata": {
    "collapsed": true
   },
   "source": [
    "**If you have questions, post to piazza or email one of the instructors: Tim Dennis <timdennis@ucsd.edu>, Reid Otsuji <rotsuji@ucsd.edu>, or Hyeonsu Kang <hyk149@eng.ucsd.edu>.**"
   ]
  },
  {
   "cell_type": "code",
   "execution_count": null,
   "metadata": {
    "collapsed": true
   },
   "outputs": [],
   "source": []
  }
 ],
 "metadata": {
  "kernelspec": {
   "display_name": "Bash",
   "language": "bash",
   "name": "bash"
  },
  "language_info": {
   "codemirror_mode": "shell",
   "file_extension": ".sh",
   "mimetype": "text/x-sh",
   "name": "bash"
  }
 },
 "nbformat": 4,
 "nbformat_minor": 0
}
